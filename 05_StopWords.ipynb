{
  "nbformat": 4,
  "nbformat_minor": 0,
  "metadata": {
    "colab": {
      "name": "05 StopWords.ipynb",
      "provenance": [],
      "authorship_tag": "ABX9TyOChRyZDbxGMAZsNbaiEiUV",
      "include_colab_link": true
    },
    "kernelspec": {
      "name": "python3",
      "display_name": "Python 3"
    }
  },
  "cells": [
    {
      "cell_type": "markdown",
      "metadata": {
        "id": "view-in-github",
        "colab_type": "text"
      },
      "source": [
        "<a href=\"https://colab.research.google.com/github/ANanade/Natural-Language-Processing/blob/master/05_StopWords.ipynb\" target=\"_parent\"><img src=\"https://colab.research.google.com/assets/colab-badge.svg\" alt=\"Open In Colab\"/></a>"
      ]
    },
    {
      "cell_type": "code",
      "metadata": {
        "id": "7pXLH7F21tFc",
        "colab_type": "code",
        "colab": {}
      },
      "source": [
        "# Perform standard imports:\n",
        "import spacy\n",
        "nlp = spacy.load('en_core_web_sm')"
      ],
      "execution_count": 1,
      "outputs": []
    },
    {
      "cell_type": "code",
      "metadata": {
        "id": "ZisG5mUd10Yq",
        "colab_type": "code",
        "colab": {
          "base_uri": "https://localhost:8080/",
          "height": 54
        },
        "outputId": "a29af392-321d-42f8-e440-82a524cd3818"
      },
      "source": [
        "# Print the set of spaCy's default stop words (remember that sets are unordered):\n",
        "print(nlp.Defaults.stop_words)"
      ],
      "execution_count": 2,
      "outputs": [
        {
          "output_type": "stream",
          "text": [
            "{'no', 'n’t', 'thence', 'we', 'she', 'bottom', 'since', 'never', 'whole', \"'m\", 'indeed', 'between', 'enough', 'against', 'due', 'beside', 'again', 'namely', 'noone', 'otherwise', 'thus', 'us', 'beforehand', 'hers', 'a', 'rather', 'her', 'hundred', 'him', 'doing', 'eight', 'off', 'nowhere', 'above', 'just', 'others', 'show', 'someone', 'could', 'has', 'that', 'to', 'often', 'somewhere', 'yourselves', 'keep', 'my', 'nine', \"'s\", 'always', 'ever', 'wherein', 'across', 'back', 'besides', 'last', 'around', 'behind', 'per', 'without', '‘s', 'whose', 'many', 'via', 'where', 'except', 'everywhere', 'be', 'four', 'everyone', 'after', 'its', 'nevertheless', 'nor', 'not', 'becomes', 'ours', 'still', 'below', 'up', 'herself', 'every', 'what', 'whence', 'why', 'even', 'everything', 'made', 'over', '‘m', '’s', 'eleven', 'thereupon', '’m', 'put', '‘ve', '‘re', 'for', '’d', 'himself', 'go', 'mostly', 'they', 'itself', 'and', 'yours', 'anyone', 'meanwhile', 'our', 'two', 're', 'get', 'move', 'it', 'most', 'become', 'full', 'nothing', 'hereafter', 'their', 'else', 'amount', 'fifty', \"'d\", 'serious', 'however', 'beyond', 'almost', 'neither', 'toward', 'much', 'such', 'already', 'may', 'perhaps', 'please', 'seemed', 'whereafter', 'who', 'regarding', 'therein', 'than', 'you', 'only', 'some', 'will', 'at', 'something', 'thereafter', 'twelve', 'anyway', 'sometimes', 'too', 'yet', 'seems', 'being', 'whereupon', 'former', 'anything', \"'re\", 'all', 'by', 'would', 'give', 'the', 'whither', 'sometime', 'these', 'together', 'about', 'both', 'either', 'somehow', 'top', 'were', 'six', 'hereby', 'ten', 'whatever', 'i', 'when', 'whether', 'anyhow', 'as', 'during', 'next', 'own', 'while', 'themselves', '‘ll', 'few', 'side', 'other', 'herein', 'throughout', 'latter', 'wherever', \"'ve\", 'ca', 'did', 'seeming', 'three', 'or', 'anywhere', 'down', 'am', 'do', 'five', 'if', 'first', 'part', 'empty', 'through', '’re', 'your', 'formerly', 'with', 'hence', 'is', 'several', 'amongst', 'another', 'becoming', 'then', 'into', 'various', 'whom', 'n‘t', 'he', 'alone', '‘d', 'any', 'once', 'really', 'thru', 'latterly', 'might', 'how', 'ourselves', 'see', 'should', 'mine', 'whereas', 'there', 'although', 'have', 'also', 'third', 'twenty', 'out', 'front', 'therefore', 'less', 'say', 'well', 'whereby', 'none', 'does', 'became', 'least', 'nobody', 'call', 'quite', 'had', 'upon', 'whoever', 'whenever', 'among', 'though', 'me', 'in', 'are', 'his', 'thereby', 'more', 'but', 'make', \"n't\", 'fifteen', 'further', 'from', 'been', 'until', 'one', 'those', 'this', 'myself', 'here', \"'ll\", 'each', 'done', 'because', 'which', 'using', 'yourself', 'seem', '’ll', 'used', 'elsewhere', 'before', 'very', 'take', 'them', 'within', 'moreover', 'so', 'was', 'hereupon', '’ve', 'now', 'of', 'must', 'name', 'along', 'forty', 'onto', 'afterwards', 'under', 'same', 'towards', 'unless', 'cannot', 'can', 'an', 'on', 'sixty'}\n"
          ],
          "name": "stdout"
        }
      ]
    },
    {
      "cell_type": "code",
      "metadata": {
        "id": "K9T7g29B13pk",
        "colab_type": "code",
        "colab": {
          "base_uri": "https://localhost:8080/",
          "height": 34
        },
        "outputId": "264a98d1-f536-4350-eaa2-b55cde2787da"
      },
      "source": [
        "len(nlp.Defaults.stop_words)"
      ],
      "execution_count": 3,
      "outputs": [
        {
          "output_type": "execute_result",
          "data": {
            "text/plain": [
              "326"
            ]
          },
          "metadata": {
            "tags": []
          },
          "execution_count": 3
        }
      ]
    },
    {
      "cell_type": "code",
      "metadata": {
        "id": "LSS9gOYm15yP",
        "colab_type": "code",
        "colab": {
          "base_uri": "https://localhost:8080/",
          "height": 34
        },
        "outputId": "64abf2c5-8b5a-432c-eca9-26215709e0cf"
      },
      "source": [
        "nlp.vocab['myself'].is_stop"
      ],
      "execution_count": 4,
      "outputs": [
        {
          "output_type": "execute_result",
          "data": {
            "text/plain": [
              "True"
            ]
          },
          "metadata": {
            "tags": []
          },
          "execution_count": 4
        }
      ]
    },
    {
      "cell_type": "code",
      "metadata": {
        "id": "fwimYP-u17la",
        "colab_type": "code",
        "colab": {
          "base_uri": "https://localhost:8080/",
          "height": 34
        },
        "outputId": "3253ccc3-9476-437f-c6e9-7a62f3fb4d68"
      },
      "source": [
        "nlp.vocab['mystery'].is_stop"
      ],
      "execution_count": 5,
      "outputs": [
        {
          "output_type": "execute_result",
          "data": {
            "text/plain": [
              "False"
            ]
          },
          "metadata": {
            "tags": []
          },
          "execution_count": 5
        }
      ]
    },
    {
      "cell_type": "code",
      "metadata": {
        "id": "CI0q9n1t19kc",
        "colab_type": "code",
        "colab": {}
      },
      "source": [
        "# Add the word to the set of stop words. Use lowercase!\n",
        "nlp.Defaults.stop_words.add('btw')\n",
        "\n",
        "# Set the stop_word tag on the lexeme\n",
        "nlp.vocab['btw'].is_stop = True"
      ],
      "execution_count": 6,
      "outputs": []
    },
    {
      "cell_type": "code",
      "metadata": {
        "id": "SAnrOpfu1-5s",
        "colab_type": "code",
        "colab": {
          "base_uri": "https://localhost:8080/",
          "height": 34
        },
        "outputId": "6ef0d8ec-e0d1-4dcd-d46c-be448a18655f"
      },
      "source": [
        "len(nlp.Defaults.stop_words)"
      ],
      "execution_count": 7,
      "outputs": [
        {
          "output_type": "execute_result",
          "data": {
            "text/plain": [
              "327"
            ]
          },
          "metadata": {
            "tags": []
          },
          "execution_count": 7
        }
      ]
    },
    {
      "cell_type": "code",
      "metadata": {
        "id": "EZGSQdPw2ANh",
        "colab_type": "code",
        "colab": {
          "base_uri": "https://localhost:8080/",
          "height": 34
        },
        "outputId": "91cf64b9-d116-42da-8eaf-ae560dff4f1f"
      },
      "source": [
        "nlp.vocab['btw'].is_stop"
      ],
      "execution_count": 8,
      "outputs": [
        {
          "output_type": "execute_result",
          "data": {
            "text/plain": [
              "True"
            ]
          },
          "metadata": {
            "tags": []
          },
          "execution_count": 8
        }
      ]
    },
    {
      "cell_type": "code",
      "metadata": {
        "id": "ZGe0wByQ2Dhm",
        "colab_type": "code",
        "colab": {
          "base_uri": "https://localhost:8080/",
          "height": 34
        },
        "outputId": "8ddd848c-1c39-40ff-956e-bc2d247b2e67"
      },
      "source": [
        "nlp.vocab['beyond'].is_stop"
      ],
      "execution_count": 9,
      "outputs": [
        {
          "output_type": "execute_result",
          "data": {
            "text/plain": [
              "True"
            ]
          },
          "metadata": {
            "tags": []
          },
          "execution_count": 9
        }
      ]
    },
    {
      "cell_type": "code",
      "metadata": {
        "id": "hItZQOUK2JWc",
        "colab_type": "code",
        "colab": {}
      },
      "source": [
        ""
      ],
      "execution_count": null,
      "outputs": []
    }
  ]
}