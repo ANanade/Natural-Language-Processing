{
  "nbformat": 4,
  "nbformat_minor": 0,
  "metadata": {
    "colab": {
      "name": "03 Stemming using NLTK.ipynb",
      "provenance": [],
      "authorship_tag": "ABX9TyOMA4cNCv8n86g4tsvL5HHA",
      "include_colab_link": true
    },
    "kernelspec": {
      "name": "python3",
      "display_name": "Python 3"
    }
  },
  "cells": [
    {
      "cell_type": "markdown",
      "metadata": {
        "id": "view-in-github",
        "colab_type": "text"
      },
      "source": [
        "<a href=\"https://colab.research.google.com/github/ANanade/Natural-Language-Processing/blob/master/03_Stemming_using_NLTK.ipynb\" target=\"_parent\"><img src=\"https://colab.research.google.com/assets/colab-badge.svg\" alt=\"Open In Colab\"/></a>"
      ]
    },
    {
      "cell_type": "markdown",
      "metadata": {
        "id": "P6EkqlXZu8TK",
        "colab_type": "text"
      },
      "source": [
        "sPacy doesn't count for Stemming it goes for LEmmetization.\n",
        "SO we will be performing Stemming using NLTK library"
      ]
    },
    {
      "cell_type": "markdown",
      "metadata": {
        "id": "G24yILk0vNIj",
        "colab_type": "text"
      },
      "source": [
        "# Stemming\n",
        "It means choping off letters from the end until the stem is reached. "
      ]
    },
    {
      "cell_type": "code",
      "metadata": {
        "id": "vZgWXD0PtUHm",
        "colab_type": "code",
        "colab": {}
      },
      "source": [
        "# Import the toolkit and the full Porter Stemmer library\n",
        "import nltk\n",
        "\n",
        "from nltk.stem.porter import PorterStemmer\n"
      ],
      "execution_count": 1,
      "outputs": []
    },
    {
      "cell_type": "code",
      "metadata": {
        "id": "Hk0_d0Uuv0jz",
        "colab_type": "code",
        "colab": {}
      },
      "source": [
        "p_stemmer = PorterStemmer()"
      ],
      "execution_count": 2,
      "outputs": []
    },
    {
      "cell_type": "code",
      "metadata": {
        "id": "TJI0Fs-Tv1CS",
        "colab_type": "code",
        "colab": {}
      },
      "source": [
        "words = ['run','runner','running','ran','runs','easily','fairly']"
      ],
      "execution_count": 3,
      "outputs": []
    },
    {
      "cell_type": "code",
      "metadata": {
        "id": "dFDrseTxv6NH",
        "colab_type": "code",
        "colab": {
          "base_uri": "https://localhost:8080/",
          "height": 136
        },
        "outputId": "52dc220e-2ac2-4dc2-8630-3543087ff4f0"
      },
      "source": [
        "for word in words:\n",
        "    print(word+' -----> '+p_stemmer.stem(word))"
      ],
      "execution_count": 4,
      "outputs": [
        {
          "output_type": "stream",
          "text": [
            "run -----> run\n",
            "runner -----> runner\n",
            "running -----> run\n",
            "ran -----> ran\n",
            "runs -----> run\n",
            "easily -----> easili\n",
            "fairly -----> fairli\n"
          ],
          "name": "stdout"
        }
      ]
    },
    {
      "cell_type": "markdown",
      "metadata": {
        "id": "Zhp8EII8wIfC",
        "colab_type": "text"
      },
      "source": [
        "Note how the stemmer recognizes \"runner\" as a noun, not a verb form or participle. Also, the adverbs \"easily\" and \"fairly\" are stemmed to the unusual root \"easili\" and \"fairli\""
      ]
    },
    {
      "cell_type": "markdown",
      "metadata": {
        "id": "qj8OKPiNwT0G",
        "colab_type": "text"
      },
      "source": [
        "# Snowball Stemmer\n",
        "This is somewhat of a misnomer, as Snowball is the name of a stemming language developed by Martin Porter. The algorithm used here is more acurately called the \"English Stemmer\" or \"Porter2 Stemmer\". It offers a slight improvement over the original Porter stemmer, both in logic and speed. "
      ]
    },
    {
      "cell_type": "code",
      "metadata": {
        "id": "z0ihTKqqwB2u",
        "colab_type": "code",
        "colab": {}
      },
      "source": [
        "from nltk.stem.snowball import SnowballStemmer\n",
        "\n",
        "# The Snowball Stemmer requires that you pass a language parameter\n",
        "s_stemmer = SnowballStemmer(language='english')"
      ],
      "execution_count": 5,
      "outputs": []
    },
    {
      "cell_type": "code",
      "metadata": {
        "id": "sRDso62GwXJ_",
        "colab_type": "code",
        "colab": {}
      },
      "source": [
        "words = ['run','runner','running','ran','runs','easily','fairly']\n",
        "# words = ['generous','generation','generously','generate']"
      ],
      "execution_count": 6,
      "outputs": []
    },
    {
      "cell_type": "code",
      "metadata": {
        "id": "xVRlZG7UwZWw",
        "colab_type": "code",
        "colab": {
          "base_uri": "https://localhost:8080/",
          "height": 136
        },
        "outputId": "e721a0c9-32eb-4b05-8b7c-5209419d3f5a"
      },
      "source": [
        "for word in words:\n",
        "    print(word+' --> '+s_stemmer.stem(word))"
      ],
      "execution_count": 7,
      "outputs": [
        {
          "output_type": "stream",
          "text": [
            "run --> run\n",
            "runner --> runner\n",
            "running --> run\n",
            "ran --> ran\n",
            "runs --> run\n",
            "easily --> easili\n",
            "fairly --> fair\n"
          ],
          "name": "stdout"
        }
      ]
    },
    {
      "cell_type": "markdown",
      "metadata": {
        "id": "bxF8EKJjwfqx",
        "colab_type": "text"
      },
      "source": [
        "In this case the stemmer performed the same as the Porter Stemmer, with the exception that it handled the stem of \"fairly\" more appropriately with \"fair\""
      ]
    },
    {
      "cell_type": "code",
      "metadata": {
        "id": "xa52MD4TwrXr",
        "colab_type": "code",
        "colab": {}
      },
      "source": [
        "words = ['generous', 'generate', 'generously', 'generation']"
      ],
      "execution_count": 8,
      "outputs": []
    },
    {
      "cell_type": "code",
      "metadata": {
        "id": "52hCX-mAw1AZ",
        "colab_type": "code",
        "colab": {
          "base_uri": "https://localhost:8080/",
          "height": 85
        },
        "outputId": "19c0c916-0dc0-4e3b-9caa-9e4fec0fac46"
      },
      "source": [
        "for word in words:\n",
        "  print(word + '  ---->  ' +p_stemmer.stem(word))"
      ],
      "execution_count": 10,
      "outputs": [
        {
          "output_type": "stream",
          "text": [
            "generous  ---->  gener\n",
            "generate  ---->  gener\n",
            "generously  ---->  gener\n",
            "generation  ---->  gener\n"
          ],
          "name": "stdout"
        }
      ]
    },
    {
      "cell_type": "code",
      "metadata": {
        "id": "wB1kzvMFw_R1",
        "colab_type": "code",
        "colab": {
          "base_uri": "https://localhost:8080/",
          "height": 85
        },
        "outputId": "8b06c8dc-e1a7-4428-850c-0a97ceb604e4"
      },
      "source": [
        "for word in words:\n",
        "  print(word+'   ---->   '+s_stemmer.stem(word))"
      ],
      "execution_count": 11,
      "outputs": [
        {
          "output_type": "stream",
          "text": [
            "generous   ---->   generous\n",
            "generate   ---->   generat\n",
            "generously   ---->   generous\n",
            "generation   ---->   generat\n"
          ],
          "name": "stdout"
        }
      ]
    },
    {
      "cell_type": "code",
      "metadata": {
        "id": "KdqH3H8ExIxz",
        "colab_type": "code",
        "colab": {
          "base_uri": "https://localhost:8080/",
          "height": 153
        },
        "outputId": "d62c8efb-4ccb-4db9-ff23-52347c546b44"
      },
      "source": [
        "phrase = 'I am meeting him tomorrow at the meeting'\n",
        "for word in phrase.split():\n",
        "    print(word+' --> '+p_stemmer.stem(word))"
      ],
      "execution_count": 12,
      "outputs": [
        {
          "output_type": "stream",
          "text": [
            "I --> I\n",
            "am --> am\n",
            "meeting --> meet\n",
            "him --> him\n",
            "tomorrow --> tomorrow\n",
            "at --> at\n",
            "the --> the\n",
            "meeting --> meet\n"
          ],
          "name": "stdout"
        }
      ]
    },
    {
      "cell_type": "markdown",
      "metadata": {
        "id": "3FtczJTfxTbd",
        "colab_type": "text"
      },
      "source": [
        "Drawback of stemming Here the word \"meeting\" appears twice - once as a verb, and once as a noun, and yet the stemmer treats both equally.\n"
      ]
    }
  ]
}