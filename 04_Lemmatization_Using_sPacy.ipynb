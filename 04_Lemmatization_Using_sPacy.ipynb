{
  "nbformat": 4,
  "nbformat_minor": 0,
  "metadata": {
    "colab": {
      "name": "04 Lemmatization Usinf sPacy.ipynb",
      "provenance": [],
      "authorship_tag": "ABX9TyNSEV+Mak7oX4iPzzyB8c5l",
      "include_colab_link": true
    },
    "kernelspec": {
      "name": "python3",
      "display_name": "Python 3"
    }
  },
  "cells": [
    {
      "cell_type": "markdown",
      "metadata": {
        "id": "view-in-github",
        "colab_type": "text"
      },
      "source": [
        "<a href=\"https://colab.research.google.com/github/ANanade/Natural-Language-Processing/blob/master/04_Lemmatization_Using_sPacy.ipynb\" target=\"_parent\"><img src=\"https://colab.research.google.com/assets/colab-badge.svg\" alt=\"Open In Colab\"/></a>"
      ]
    },
    {
      "cell_type": "code",
      "metadata": {
        "id": "k7ZG1dDExqH2",
        "colab_type": "code",
        "colab": {}
      },
      "source": [
        "# Perform standard imports:\n",
        "import spacy\n",
        "nlp = spacy.load('en_core_web_sm')"
      ],
      "execution_count": 1,
      "outputs": []
    },
    {
      "cell_type": "code",
      "metadata": {
        "id": "eT87Pinjz-XG",
        "colab_type": "code",
        "colab": {
          "base_uri": "https://localhost:8080/",
          "height": 306
        },
        "outputId": "eb390e40-9c6c-40d6-9317-2289f1d5e93c"
      },
      "source": [
        "doc1 = nlp(u\"I am a runner running in a race because I love to run since I ran today\")\n",
        "\n",
        "for token in doc1:\n",
        "    print(token.text, '\\t', token.pos_, '\\t', token.lemma, '\\t\\t', token.lemma_)"
      ],
      "execution_count": 2,
      "outputs": [
        {
          "output_type": "stream",
          "text": [
            "I \t PRON \t 561228191312463089 \t\t -PRON-\n",
            "am \t AUX \t 10382539506755952630 \t\t be\n",
            "a \t DET \t 11901859001352538922 \t\t a\n",
            "runner \t NOUN \t 12640964157389618806 \t\t runner\n",
            "running \t VERB \t 12767647472892411841 \t\t run\n",
            "in \t ADP \t 3002984154512732771 \t\t in\n",
            "a \t DET \t 11901859001352538922 \t\t a\n",
            "race \t NOUN \t 8048469955494714898 \t\t race\n",
            "because \t SCONJ \t 16950148841647037698 \t\t because\n",
            "I \t PRON \t 561228191312463089 \t\t -PRON-\n",
            "love \t VERB \t 3702023516439754181 \t\t love\n",
            "to \t PART \t 3791531372978436496 \t\t to\n",
            "run \t VERB \t 12767647472892411841 \t\t run\n",
            "since \t SCONJ \t 10066841407251338481 \t\t since\n",
            "I \t PRON \t 561228191312463089 \t\t -PRON-\n",
            "ran \t VERB \t 12767647472892411841 \t\t run\n",
            "today \t NOUN \t 11042482332948150395 \t\t today\n"
          ],
          "name": "stdout"
        }
      ]
    },
    {
      "cell_type": "markdown",
      "metadata": {
        "id": "tnbvtBti0efD",
        "colab_type": "text"
      },
      "source": [
        "In the above sentence, running, run and ran all point to the same lemma run (...11841) to avoid duplication."
      ]
    },
    {
      "cell_type": "markdown",
      "metadata": {
        "id": "05iVDHzO0jmm",
        "colab_type": "text"
      },
      "source": [
        "## Function to display lemmas\n",
        "Since the display above is staggared and hard to read, let's write a function that displays the information we want more neatly."
      ]
    },
    {
      "cell_type": "code",
      "metadata": {
        "id": "4ZahhE0J0FiV",
        "colab_type": "code",
        "colab": {}
      },
      "source": [
        "def show_lemmas(text):\n",
        "    for token in text:\n",
        "        print(f'{token.text:{12}} {token.pos_:{6}} {token.lemma:<{22}} {token.lemma_}')"
      ],
      "execution_count": 3,
      "outputs": []
    },
    {
      "cell_type": "code",
      "metadata": {
        "id": "lnhxm1190hQJ",
        "colab_type": "code",
        "colab": {
          "base_uri": "https://localhost:8080/",
          "height": 119
        },
        "outputId": "5d8eb791-84fb-4633-b8c3-c737cc16d338"
      },
      "source": [
        "doc2 = nlp(u\"I saw eighteen mice today!\")\n",
        "\n",
        "show_lemmas(doc2)"
      ],
      "execution_count": 4,
      "outputs": [
        {
          "output_type": "stream",
          "text": [
            "I            PRON   561228191312463089     -PRON-\n",
            "saw          VERB   11925638236994514241   see\n",
            "eighteen     NUM    9609336664675087640    eighteen\n",
            "mice         NOUN   1384165645700560590    mouse\n",
            "today        NOUN   11042482332948150395   today\n",
            "!            PUNCT  17494803046312582752   !\n"
          ],
          "name": "stdout"
        }
      ]
    },
    {
      "cell_type": "code",
      "metadata": {
        "id": "fQi5z4ti0qHm",
        "colab_type": "code",
        "colab": {
          "base_uri": "https://localhost:8080/",
          "height": 170
        },
        "outputId": "b13b6d8b-6897-44ff-cf87-a5f2fb062126"
      },
      "source": [
        "doc3 = nlp(u\"I am meeting him tomorrow at the meeting.\")\n",
        "\n",
        "show_lemmas(doc3)"
      ],
      "execution_count": 5,
      "outputs": [
        {
          "output_type": "stream",
          "text": [
            "I            PRON   561228191312463089     -PRON-\n",
            "am           AUX    10382539506755952630   be\n",
            "meeting      VERB   6880656908171229526    meet\n",
            "him          PRON   561228191312463089     -PRON-\n",
            "tomorrow     NOUN   3573583789758258062    tomorrow\n",
            "at           ADP    11667289587015813222   at\n",
            "the          DET    7425985699627899538    the\n",
            "meeting      NOUN   14798207169164081740   meeting\n",
            ".            PUNCT  12646065887601541794   .\n"
          ],
          "name": "stdout"
        }
      ]
    },
    {
      "cell_type": "code",
      "metadata": {
        "id": "UKVHtKMM0uAv",
        "colab_type": "code",
        "colab": {
          "base_uri": "https://localhost:8080/",
          "height": 102
        },
        "outputId": "9b9db6d2-11b2-40f5-b81b-627ef7021054"
      },
      "source": [
        "doc4 = nlp(u\"That's an enormous automobile\")\n",
        "\n",
        "show_lemmas(doc4)"
      ],
      "execution_count": 6,
      "outputs": [
        {
          "output_type": "stream",
          "text": [
            "That         DET    4380130941430378203    that\n",
            "'s           AUX    10382539506755952630   be\n",
            "an           DET    15099054000809333061   an\n",
            "enormous     ADJ    17917224542039855524   enormous\n",
            "automobile   NOUN   7211811266693931283    automobile\n"
          ],
          "name": "stdout"
        }
      ]
    }
  ]
}